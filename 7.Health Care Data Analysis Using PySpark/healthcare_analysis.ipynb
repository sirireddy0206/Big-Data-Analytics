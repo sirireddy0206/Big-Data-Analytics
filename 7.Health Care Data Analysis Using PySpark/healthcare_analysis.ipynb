{
 "cells": [
  {
   "cell_type": "code",
   "execution_count": 1,
   "id": "34cfefe0-0692-44ae-969d-55b6d45471c5",
   "metadata": {},
   "outputs": [
    {
     "name": "stdout",
     "output_type": "stream",
     "text": [
      "+-------------+---+------+----------+-----------------+-----------------+----------------+--------------------+------------------+------------------+-----------+--------------+--------------+-----------+------------+\n",
      "|         Name|Age|Gender|Blood Type|Medical Condition|Date of Admission|          Doctor|            Hospital|Insurance Provider|    Billing Amount|Room Number|Admission Type|Discharge Date| Medication|Test Results|\n",
      "+-------------+---+------+----------+-----------------+-----------------+----------------+--------------------+------------------+------------------+-----------+--------------+--------------+-----------+------------+\n",
      "|Bobby JacksOn| 30|  Male|        B-|           Cancer|       2024-01-31|   Matthew Smith|     Sons and Miller|        Blue Cross|18856.281305978155|        328|        Urgent|    2024-02-02|Paracetamol|      Normal|\n",
      "| LesLie TErRy| 62|  Male|        A+|          Obesity|       2019-08-20| Samantha Davies|             Kim Inc|          Medicare|33643.327286577885|        265|     Emergency|    2019-08-26|  Ibuprofen|Inconclusive|\n",
      "|  DaNnY sMitH| 76|Female|        A-|          Obesity|       2022-09-22|Tiffany Mitchell|            Cook PLC|             Aetna|27955.096078842456|        205|     Emergency|    2022-10-07|    Aspirin|      Normal|\n",
      "| andrEw waTtS| 28|Female|        O+|         Diabetes|       2020-11-18|     Kevin Wells|Hernandez Rogers ...|          Medicare| 37909.78240987528|        450|      Elective|    2020-12-18|  Ibuprofen|    Abnormal|\n",
      "|adrIENNE bEll| 43|Female|       AB+|           Cancer|       2022-09-19|  Kathleen Hanna|         White-White|             Aetna|14238.317813937623|        458|        Urgent|    2022-10-09| Penicillin|    Abnormal|\n",
      "+-------------+---+------+----------+-----------------+-----------------+----------------+--------------------+------------------+------------------+-----------+--------------+--------------+-----------+------------+\n",
      "only showing top 5 rows\n"
     ]
    }
   ],
   "source": [
    "from pyspark.sql import SparkSession\n",
    "\n",
    "\n",
    "spark = SparkSession.builder.appName(\"Data Analysis and Visualization\").getOrCreate()\n",
    "\n",
    "\n",
    "file_path = \"C:/Users/bhara/Downloads/healthcare_dataset.csv\"\n",
    "\n",
    "\n",
    "df = spark.read.csv(file_path, header=True, inferSchema=True)\n",
    "\n",
    "df.show(5)\n"
   ]
  },
  {
   "cell_type": "code",
   "execution_count": 2,
   "id": "081a1185-7264-4581-9b04-be5f3be3669b",
   "metadata": {},
   "outputs": [
    {
     "name": "stdout",
     "output_type": "stream",
     "text": [
      "Total Rows: 55500\n",
      "Total Columns: 15\n"
     ]
    }
   ],
   "source": [
    "\n",
    "print(\"Total Rows:\", df.count())\n",
    "print(\"Total Columns:\", len(df.columns))\n",
    "\n",
    "\n"
   ]
  },
  {
   "cell_type": "code",
   "execution_count": 3,
   "id": "4221bbe1-65f3-47fc-8e1b-7a952dced401",
   "metadata": {},
   "outputs": [
    {
     "name": "stdout",
     "output_type": "stream",
     "text": [
      "+-------+------------+------------------+------+----------+-----------------+-------------+--------------------+------------------+-------------------+------------------+--------------+----------+------------+\n",
      "|summary|        Name|               Age|Gender|Blood Type|Medical Condition|       Doctor|            Hospital|Insurance Provider|     Billing Amount|       Room Number|Admission Type|Medication|Test Results|\n",
      "+-------+------------+------------------+------+----------+-----------------+-------------+--------------------+------------------+-------------------+------------------+--------------+----------+------------+\n",
      "|  count|       55500|             55500| 55500|     55500|            55500|        55500|               55500|             55500|              55500|             55500|         55500|     55500|       55500|\n",
      "|   mean|        NULL| 51.53945945945946|  NULL|      NULL|             NULL|         NULL|                NULL|              NULL| 25539.316097211864| 301.1348288288288|          NULL|      NULL|        NULL|\n",
      "| stddev|        NULL|19.602453808514408|  NULL|      NULL|             NULL|         NULL|                NULL|              NULL| 14211.454430864416|115.24306870097345|          NULL|      NULL|        NULL|\n",
      "|    min|AARON DuncAn|                13|Female|        A+|        Arthritis|Aaron Acevedo|          Abbott Inc|             Aetna|-2008.4921398591305|               101|      Elective|   Aspirin|    Abnormal|\n",
      "|    max|zachary WALl|                89|  Male|        O-|          Obesity|  Zoe Wallace|and Zuniga Thomps...|  UnitedHealthcare| 52764.276736469175|               500|        Urgent|Penicillin|      Normal|\n",
      "+-------+------------+------------------+------+----------+-----------------+-------------+--------------------+------------------+-------------------+------------------+--------------+----------+------------+\n",
      "\n"
     ]
    }
   ],
   "source": [
    "df.describe().show()\n",
    "\n"
   ]
  },
  {
   "cell_type": "code",
   "execution_count": 4,
   "id": "81f5c7e8-fd24-403e-97a9-02c2fe709e27",
   "metadata": {},
   "outputs": [
    {
     "name": "stdout",
     "output_type": "stream",
     "text": [
      "Columns: ['Name', 'Age', 'Gender', 'Blood Type', 'Medical Condition', 'Date of Admission', 'Doctor', 'Hospital', 'Insurance Provider', 'Billing Amount', 'Room Number', 'Admission Type', 'Discharge Date', 'Medication', 'Test Results']\n"
     ]
    }
   ],
   "source": [
    "print(\"Columns:\", df.columns)\n",
    "\n"
   ]
  },
  {
   "cell_type": "code",
   "execution_count": 5,
   "id": "884c0bfc-1179-4714-a27c-ae2acbc5e04b",
   "metadata": {},
   "outputs": [
    {
     "name": "stdout",
     "output_type": "stream",
     "text": [
      "+----+---+------+----------+-----------------+-----------------+------+--------+------------------+--------------+-----------+--------------+--------------+----------+------------+\n",
      "|Name|Age|Gender|Blood Type|Medical Condition|Date of Admission|Doctor|Hospital|Insurance Provider|Billing Amount|Room Number|Admission Type|Discharge Date|Medication|Test Results|\n",
      "+----+---+------+----------+-----------------+-----------------+------+--------+------------------+--------------+-----------+--------------+--------------+----------+------------+\n",
      "|   0|  0|     0|         0|                0|                0|     0|       0|                 0|             0|          0|             0|             0|         0|           0|\n",
      "+----+---+------+----------+-----------------+-----------------+------+--------+------------------+--------------+-----------+--------------+--------------+----------+------------+\n",
      "\n"
     ]
    }
   ],
   "source": [
    "from pyspark.sql.functions import col, sum as spark_sum\n",
    "df.select([spark_sum(col(c).isNull().cast(\"int\")).alias(c) for c in df.columns]).show()"
   ]
  },
  {
   "cell_type": "code",
   "execution_count": 6,
   "id": "8e89bff1-6443-4a88-9dd4-a00259536778",
   "metadata": {},
   "outputs": [
    {
     "name": "stdout",
     "output_type": "stream",
     "text": [
      "root\n",
      " |-- Name: string (nullable = true)\n",
      " |-- Age: integer (nullable = true)\n",
      " |-- Gender: string (nullable = true)\n",
      " |-- Blood Type: string (nullable = true)\n",
      " |-- Medical Condition: string (nullable = true)\n",
      " |-- Date of Admission: date (nullable = true)\n",
      " |-- Doctor: string (nullable = true)\n",
      " |-- Hospital: string (nullable = true)\n",
      " |-- Insurance Provider: string (nullable = true)\n",
      " |-- Billing Amount: double (nullable = true)\n",
      " |-- Room Number: integer (nullable = true)\n",
      " |-- Admission Type: string (nullable = true)\n",
      " |-- Discharge Date: date (nullable = true)\n",
      " |-- Medication: string (nullable = true)\n",
      " |-- Test Results: string (nullable = true)\n",
      "\n"
     ]
    }
   ],
   "source": [
    "df.printSchema()"
   ]
  },
  {
   "cell_type": "code",
   "execution_count": 7,
   "id": "636d4e7d-dfcf-454e-8cea-3aaaf723842b",
   "metadata": {},
   "outputs": [],
   "source": [
    "df = df.dropDuplicates()"
   ]
  },
  {
   "cell_type": "code",
   "execution_count": 8,
   "id": "72686ea2-58f2-47fd-a4e4-c0c01af6184c",
   "metadata": {},
   "outputs": [],
   "source": [
    "from pyspark.sql.functions import mean\n",
    "\n",
    "mean_age = df.select(mean(col(\"Age\"))).collect()[0][0]\n",
    "mean_bill = df.select(mean(col(\"Billing Amount\"))).collect()[0][0]\n",
    "\n",
    "df = df.fillna({\"Age\": mean_age, \"Billing Amount\": mean_bill})"
   ]
  },
  {
   "cell_type": "code",
   "execution_count": 9,
   "id": "034a5889-6a9f-4b2d-874a-1f5a3db60e0d",
   "metadata": {},
   "outputs": [
    {
     "name": "stdout",
     "output_type": "stream",
     "text": [
      "+--------------------+-------------------+\n",
      "|            Hospital|avg(Billing Amount)|\n",
      "+--------------------+-------------------+\n",
      "|    Hernandez-Morton| 52373.032374241826|\n",
      "|       Walker-Garcia|  52170.03685355641|\n",
      "|        Ruiz-Anthony| 52154.237721878235|\n",
      "|     George-Gonzalez|  52102.24088919256|\n",
      "|        Rocha-Carter| 52092.669895844054|\n",
      "|Briggs Walker Mar...|  52024.72644288463|\n",
      "|and Small Stephen...|  51975.96813526631|\n",
      "|      Clark-Espinoza|  51848.20159668146|\n",
      "|Pierce and Miller...|  51722.12273936527|\n",
      "|        Stephens Ltd|  51714.30087099009|\n",
      "|         Lester-Park|  51661.01203312709|\n",
      "|         Stein-Watts|  51634.09983523182|\n",
      "|Thomas, Clark and...|  51633.85843476792|\n",
      "|Baker, Weber Patt...|  51587.93681650202|\n",
      "|      Bowman-Jimenez|  51567.27767127847|\n",
      "|        Perez-Wagner|  51531.96456324429|\n",
      "|   Brewer-Washington|  51415.25787151488|\n",
      "|       Cabrera-Baker|  51350.51280585173|\n",
      "|Santiago and Russ...|  51336.22120953535|\n",
      "|        Group Glover|  51316.62125631919|\n",
      "+--------------------+-------------------+\n",
      "only showing top 20 rows\n"
     ]
    }
   ],
   "source": [
    "df.groupBy(\"Hospital\").avg(\"Billing Amount\").orderBy(\"avg(Billing Amount)\", ascending=False).show()\n"
   ]
  },
  {
   "cell_type": "code",
   "execution_count": 10,
   "id": "25cd6981-8d6f-4896-a357-423667154bdb",
   "metadata": {},
   "outputs": [
    {
     "name": "stdout",
     "output_type": "stream",
     "text": [
      "+-----------------+-----+\n",
      "|Medical Condition|count|\n",
      "+-----------------+-----+\n",
      "|        Arthritis| 9218|\n",
      "|         Diabetes| 9216|\n",
      "|     Hypertension| 9151|\n",
      "|          Obesity| 9146|\n",
      "|           Cancer| 9140|\n",
      "|           Asthma| 9095|\n",
      "+-----------------+-----+\n",
      "\n"
     ]
    }
   ],
   "source": [
    "df.groupBy(\"Medical Condition\").count().orderBy(\"count\", ascending=False).show()\n"
   ]
  },
  {
   "cell_type": "code",
   "execution_count": 11,
   "id": "47851d77-0054-4f5e-8931-c3f388a7a789",
   "metadata": {},
   "outputs": [
    {
     "name": "stdout",
     "output_type": "stream",
     "text": [
      "+--------------+------------------+\n",
      "|Admission Type|          avg(Age)|\n",
      "+--------------+------------------+\n",
      "|        Urgent|51.631232668152904|\n",
      "|     Emergency| 51.53982985305491|\n",
      "|      Elective| 51.43501326259947|\n",
      "+--------------+------------------+\n",
      "\n"
     ]
    }
   ],
   "source": [
    "df.groupBy(\"Admission Type\").avg(\"Age\").orderBy(\"avg(Age)\", ascending=False).show()\n"
   ]
  },
  {
   "cell_type": "code",
   "execution_count": 12,
   "id": "8c4c423d-dc92-4bad-be9b-22b6432a15d3",
   "metadata": {},
   "outputs": [
    {
     "name": "stdout",
     "output_type": "stream",
     "text": [
      "Correlation between Age and Billing Amount: -0.003426700417461207\n"
     ]
    }
   ],
   "source": [
    "corr = df.stat.corr(\"Age\", \"Billing Amount\")\n",
    "print(\"Correlation between Age and Billing Amount:\", corr)\n"
   ]
  },
  {
   "cell_type": "code",
   "execution_count": 13,
   "id": "1e109587-02bd-4d70-99e8-6905054a1eb3",
   "metadata": {},
   "outputs": [
    {
     "name": "stdout",
     "output_type": "stream",
     "text": [
      "Requirement already satisfied: seaborn in c:\\users\\bhara\\anaconda3\\lib\\site-packages (0.13.2)\n",
      "Requirement already satisfied: matplotlib in c:\\users\\bhara\\anaconda3\\lib\\site-packages (3.9.2)\n",
      "Requirement already satisfied: numpy!=1.24.0,>=1.20 in c:\\users\\bhara\\anaconda3\\lib\\site-packages (from seaborn) (1.26.4)\n",
      "Requirement already satisfied: pandas>=1.2 in c:\\users\\bhara\\anaconda3\\lib\\site-packages (from seaborn) (2.2.2)\n",
      "Requirement already satisfied: contourpy>=1.0.1 in c:\\users\\bhara\\anaconda3\\lib\\site-packages (from matplotlib) (1.2.0)\n",
      "Requirement already satisfied: cycler>=0.10 in c:\\users\\bhara\\anaconda3\\lib\\site-packages (from matplotlib) (0.11.0)\n",
      "Requirement already satisfied: fonttools>=4.22.0 in c:\\users\\bhara\\anaconda3\\lib\\site-packages (from matplotlib) (4.51.0)\n",
      "Requirement already satisfied: kiwisolver>=1.3.1 in c:\\users\\bhara\\anaconda3\\lib\\site-packages (from matplotlib) (1.4.4)\n",
      "Requirement already satisfied: packaging>=20.0 in c:\\users\\bhara\\appdata\\roaming\\python\\python312\\site-packages (from matplotlib) (24.2)\n",
      "Requirement already satisfied: pillow>=8 in c:\\users\\bhara\\anaconda3\\lib\\site-packages (from matplotlib) (10.4.0)\n",
      "Requirement already satisfied: pyparsing>=2.3.1 in c:\\users\\bhara\\anaconda3\\lib\\site-packages (from matplotlib) (3.1.2)\n",
      "Requirement already satisfied: python-dateutil>=2.7 in c:\\users\\bhara\\appdata\\roaming\\python\\python312\\site-packages (from matplotlib) (2.9.0.post0)\n",
      "Requirement already satisfied: pytz>=2020.1 in c:\\users\\bhara\\anaconda3\\lib\\site-packages (from pandas>=1.2->seaborn) (2024.1)\n",
      "Requirement already satisfied: tzdata>=2022.7 in c:\\users\\bhara\\anaconda3\\lib\\site-packages (from pandas>=1.2->seaborn) (2023.3)\n",
      "Requirement already satisfied: six>=1.5 in c:\\users\\bhara\\appdata\\roaming\\python\\python312\\site-packages (from python-dateutil>=2.7->matplotlib) (1.17.0)\n"
     ]
    }
   ],
   "source": [
    "!pip install seaborn matplotlib\n",
    "\n",
    "\n"
   ]
  },
  {
   "cell_type": "code",
   "execution_count": 14,
   "id": "f67f6b23-79ad-41e8-8069-013dba20b4df",
   "metadata": {},
   "outputs": [
    {
     "name": "stdout",
     "output_type": "stream",
     "text": [
      "C:\\Users\\bhara\\myenv\\Scripts\\python.exe\n"
     ]
    }
   ],
   "source": [
    "import sys\n",
    "print(sys.executable)\n"
   ]
  },
  {
   "cell_type": "code",
   "execution_count": 15,
   "id": "e76f544b-1d66-48f9-bb9e-393594c5790c",
   "metadata": {},
   "outputs": [
    {
     "name": "stderr",
     "output_type": "stream",
     "text": [
      "The system cannot find the path specified.\n"
     ]
    }
   ],
   "source": [
    "!C:\\Users\\bhara\\AppData\\Local\\Programs\\Python\\Python312\\python.exe -m pip install seaborn matplotlib\n"
   ]
  },
  {
   "cell_type": "code",
   "execution_count": 16,
   "id": "a1b344db-5d60-4a94-ac08-da0d3e82245e",
   "metadata": {},
   "outputs": [
    {
     "name": "stdout",
     "output_type": "stream",
     "text": [
      "Requirement already satisfied: seaborn in c:\\users\\bhara\\anaconda3\\lib\\site-packages (0.13.2)\n",
      "Requirement already satisfied: matplotlib in c:\\users\\bhara\\anaconda3\\lib\\site-packages (3.9.2)\n",
      "Requirement already satisfied: numpy!=1.24.0,>=1.20 in c:\\users\\bhara\\anaconda3\\lib\\site-packages (from seaborn) (1.26.4)\n",
      "Requirement already satisfied: pandas>=1.2 in c:\\users\\bhara\\anaconda3\\lib\\site-packages (from seaborn) (2.2.2)\n",
      "Requirement already satisfied: contourpy>=1.0.1 in c:\\users\\bhara\\anaconda3\\lib\\site-packages (from matplotlib) (1.2.0)\n",
      "Requirement already satisfied: cycler>=0.10 in c:\\users\\bhara\\anaconda3\\lib\\site-packages (from matplotlib) (0.11.0)\n",
      "Requirement already satisfied: fonttools>=4.22.0 in c:\\users\\bhara\\anaconda3\\lib\\site-packages (from matplotlib) (4.51.0)\n",
      "Requirement already satisfied: kiwisolver>=1.3.1 in c:\\users\\bhara\\anaconda3\\lib\\site-packages (from matplotlib) (1.4.4)\n",
      "Requirement already satisfied: packaging>=20.0 in c:\\users\\bhara\\appdata\\roaming\\python\\python312\\site-packages (from matplotlib) (24.2)\n",
      "Requirement already satisfied: pillow>=8 in c:\\users\\bhara\\anaconda3\\lib\\site-packages (from matplotlib) (10.4.0)\n",
      "Requirement already satisfied: pyparsing>=2.3.1 in c:\\users\\bhara\\anaconda3\\lib\\site-packages (from matplotlib) (3.1.2)\n",
      "Requirement already satisfied: python-dateutil>=2.7 in c:\\users\\bhara\\appdata\\roaming\\python\\python312\\site-packages (from matplotlib) (2.9.0.post0)\n",
      "Requirement already satisfied: pytz>=2020.1 in c:\\users\\bhara\\anaconda3\\lib\\site-packages (from pandas>=1.2->seaborn) (2024.1)\n",
      "Requirement already satisfied: tzdata>=2022.7 in c:\\users\\bhara\\anaconda3\\lib\\site-packages (from pandas>=1.2->seaborn) (2023.3)\n",
      "Requirement already satisfied: six>=1.5 in c:\\users\\bhara\\appdata\\roaming\\python\\python312\\site-packages (from python-dateutil>=2.7->matplotlib) (1.17.0)\n"
     ]
    }
   ],
   "source": [
    "!pip install seaborn matplotlib\n"
   ]
  },
  {
   "cell_type": "code",
   "execution_count": 17,
   "id": "69e4108e-fca6-4e98-9d36-bb6c9fb9c75c",
   "metadata": {},
   "outputs": [
    {
     "name": "stdout",
     "output_type": "stream",
     "text": [
      "C:\\Users\\bhara\\myenv\\Scripts\\python.exe\n"
     ]
    }
   ],
   "source": [
    "import sys\n",
    "print(sys.executable)\n"
   ]
  },
  {
   "cell_type": "code",
   "execution_count": 18,
   "id": "03755b58-2cc0-4423-9a58-72a7b1d10ec3",
   "metadata": {},
   "outputs": [
    {
     "ename": "ModuleNotFoundError",
     "evalue": "No module named 'seaborn'",
     "output_type": "error",
     "traceback": [
      "\u001b[31m---------------------------------------------------------------------------\u001b[39m",
      "\u001b[31mModuleNotFoundError\u001b[39m                       Traceback (most recent call last)",
      "\u001b[36mCell\u001b[39m\u001b[36m \u001b[39m\u001b[32mIn[18]\u001b[39m\u001b[32m, line 1\u001b[39m\n\u001b[32m----> \u001b[39m\u001b[32m1\u001b[39m \u001b[38;5;28;01mimport\u001b[39;00m\u001b[38;5;250m \u001b[39m\u001b[34;01mseaborn\u001b[39;00m\u001b[38;5;250m \u001b[39m\u001b[38;5;28;01mas\u001b[39;00m\u001b[38;5;250m \u001b[39m\u001b[34;01msns\u001b[39;00m\n\u001b[32m      2\u001b[39m \u001b[38;5;28;01mimport\u001b[39;00m\u001b[38;5;250m \u001b[39m\u001b[34;01mmatplotlib\u001b[39;00m\u001b[34;01m.\u001b[39;00m\u001b[34;01mpyplot\u001b[39;00m\u001b[38;5;250m \u001b[39m\u001b[38;5;28;01mas\u001b[39;00m\u001b[38;5;250m \u001b[39m\u001b[34;01mplt\u001b[39;00m\n\u001b[32m      3\u001b[39m \u001b[38;5;28mprint\u001b[39m(\u001b[33m\"\u001b[39m\u001b[33m✅ Seaborn is working in Jupyter with myenv!\u001b[39m\u001b[33m\"\u001b[39m)\n",
      "\u001b[31mModuleNotFoundError\u001b[39m: No module named 'seaborn'"
     ]
    }
   ],
   "source": [
    "import seaborn as sns\n",
    "import matplotlib.pyplot as plt\n",
    "print(\"✅ Seaborn is working in Jupyter with myenv!\")\n"
   ]
  },
  {
   "cell_type": "code",
   "execution_count": null,
   "id": "4196123a-774f-4780-b3f1-45ba84aca581",
   "metadata": {},
   "outputs": [],
   "source": []
  }
 ],
 "metadata": {
  "kernelspec": {
   "display_name": "Python (PySpark)",
   "language": "python",
   "name": "pyspark-venv"
  },
  "language_info": {
   "codemirror_mode": {
    "name": "ipython",
    "version": 3
   },
   "file_extension": ".py",
   "mimetype": "text/x-python",
   "name": "python",
   "nbconvert_exporter": "python",
   "pygments_lexer": "ipython3",
   "version": "3.11.0"
  }
 },
 "nbformat": 4,
 "nbformat_minor": 5
}
